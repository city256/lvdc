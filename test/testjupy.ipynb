{
 "cells": [
  {
   "cell_type": "code",
   "execution_count": 6,
   "metadata": {
    "collapsed": true,
    "ExecuteTime": {
     "end_time": "2023-07-19T08:56:24.147858200Z",
     "start_time": "2023-07-19T08:56:24.136854600Z"
    }
   },
   "outputs": [
    {
     "name": "stdout",
     "output_type": "stream",
     "text": [
      "    Unnamed: 0                date     pv\n",
      "0            0 2023-07-19 00:00:00    0.0\n",
      "1            1 2023-07-19 01:00:00    0.0\n",
      "2            2 2023-07-19 02:00:00    0.0\n",
      "3            3 2023-07-19 03:00:00    0.0\n",
      "4            4 2023-07-19 04:00:00    0.0\n",
      "5            5 2023-07-19 05:00:00    0.0\n",
      "6            6 2023-07-19 06:00:00    0.0\n",
      "7            7 2023-07-19 07:00:00    0.0\n",
      "8            8 2023-07-19 08:00:00   10.0\n",
      "9            9 2023-07-19 09:00:00   40.0\n",
      "10          10 2023-07-19 10:00:00   90.0\n",
      "11          11 2023-07-19 11:00:00  110.0\n",
      "12          12 2023-07-19 12:00:00  140.0\n",
      "13          13 2023-07-19 13:00:00  150.0\n",
      "14          14 2023-07-19 14:00:00  140.0\n",
      "15          15 2023-07-19 15:00:00  130.0\n",
      "16          16 2023-07-19 16:00:00  110.0\n",
      "17          17 2023-07-19 17:00:00   70.0\n",
      "18          18 2023-07-19 18:00:00   40.0\n",
      "19          19 2023-07-19 19:00:00   10.0\n",
      "20          20 2023-07-19 20:00:00    0.0\n",
      "21          21 2023-07-19 21:00:00    0.0\n",
      "22          22 2023-07-19 22:00:00      -\n",
      "23          23 2023-07-19 23:00:00    0.0\n",
      "pv= 70.0\n"
     ]
    }
   ],
   "source": [
    "import datetime\n",
    "import string\n",
    "import pandas as pd\n",
    "import numpy as np\n",
    "import csv\n",
    "import re\n",
    "import matplotlib.pyplot as plt\n",
    "now_time = datetime.datetime.now().strftime('%Y-%m-%d %H')\n",
    "\n",
    "pv = pd.read_csv('pred_pv.csv', encoding='CP949')\n",
    "pv['date'] = pd.to_datetime(pv['date'], format='%Y-%m-%d %H')\n",
    "print(pv)\n",
    "\n",
    "predwPV = pv.loc[(pv['date']==now_time, 'pv')]\n",
    "predwPV = float(predwPV)\n",
    "\n",
    "\n",
    "print('pv=',predwPV)\n",
    "\n"
   ]
  },
  {
   "cell_type": "code",
   "execution_count": 1,
   "outputs": [
    {
     "data": {
      "text/plain": "32"
     },
     "execution_count": 1,
     "metadata": {},
     "output_type": "execute_result"
    }
   ],
   "source": [
    "import multiprocessing as mp\n",
    "mp.cpu_count()"
   ],
   "metadata": {
    "collapsed": false,
    "ExecuteTime": {
     "end_time": "2023-07-20T08:23:38.599806600Z",
     "start_time": "2023-07-20T08:23:38.586505400Z"
    }
   }
  },
  {
   "cell_type": "code",
   "execution_count": null,
   "outputs": [],
   "source": [],
   "metadata": {
    "collapsed": false
   }
  }
 ],
 "metadata": {
  "kernelspec": {
   "display_name": "Python 3",
   "language": "python",
   "name": "python3"
  },
  "language_info": {
   "codemirror_mode": {
    "name": "ipython",
    "version": 2
   },
   "file_extension": ".py",
   "mimetype": "text/x-python",
   "name": "python",
   "nbconvert_exporter": "python",
   "pygments_lexer": "ipython2",
   "version": "2.7.6"
  }
 },
 "nbformat": 4,
 "nbformat_minor": 0
}
