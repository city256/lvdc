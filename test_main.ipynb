{
  "nbformat": 4,
  "nbformat_minor": 0,
  "metadata": {
    "colab": {
      "private_outputs": true,
      "provenance": [],
      "toc_visible": true,
      "authorship_tag": "ABX9TyNijuzwAfUmA9sWF6YDCxSA",
      "include_colab_link": true
    },
    "kernelspec": {
      "name": "python3",
      "display_name": "Python 3"
    },
    "language_info": {
      "name": "python"
    }
  },
  "cells": [
    {
      "cell_type": "markdown",
      "metadata": {
        "id": "view-in-github",
        "colab_type": "text"
      },
      "source": [
        "<a href=\"https://colab.research.google.com/github/city256/lvdc/blob/main/test_main.ipynb\" target=\"_parent\"><img src=\"https://colab.research.google.com/assets/colab-badge.svg\" alt=\"Open In Colab\"/></a>"
      ]
    },
    {
      "cell_type": "code",
      "execution_count": null,
      "metadata": {
        "id": "az1z90oAyPeb"
      },
      "outputs": [],
      "source": [
        "import paho.mqtt.client as mqtt\n",
        "import mqtt_fn\n",
        "import db\n",
        "\n",
        "# mqtt config\n",
        "url = 'lvdc.iptime.org'\n",
        "sub_topic = 'lvdc/ais'\n",
        "pub_topic = 'lvdc/ess'\n",
        "mqtt_port = 1883\n",
        "\n",
        "# maria db config\n",
        "db_user = \"root\"\n",
        "db_pw = \"Lvdc12341@\"\n",
        "db_name = \"etri_lvdc\"\n",
        "db_port = 13306\n",
        "\n",
        "# mqtt connection\n",
        "mqttc = mqtt.Client()\n",
        "mqttc.on_message = mqtt_fn.on_message\n",
        "mqttc.on_connect = mqtt_fn.on_connect\n",
        "mqttc.on_publish = mqtt_fn.on_publish\n",
        "mqttc.on_subscribe = mqtt_fn.on_subscribe\n",
        "\n",
        "mqttc.connect(host=url, port=mqtt_port)\n",
        "\n",
        "mqttc.subscribe(sub_topic, 0)\n",
        "mqttc.publish(pub_topic, \"hello\")\n",
        "\n",
        "# maria db connection\n",
        "try:\n",
        "    conn = db.mariadb.connect(\n",
        "        user=db_user,\n",
        "        password=db_pw,\n",
        "        host=url,\n",
        "        port=db_port,\n",
        "        database=db_name\n",
        "    )\n",
        "    print(\"connection Success!\")\n",
        "except db.mariadb.Error as e:\n",
        "    print(f\"Error connecting to MariaDB Platform: {e}\")\n",
        "    db.sys.exit(1)\n",
        "\n",
        "pv_df = db.get_pv_monitor(conn)\n",
        "print(pv_df)\n",
        "\n",
        "mqttc.loop_forever()\n",
        "\n"
      ]
    },
    {
      "cell_type": "code",
      "source": [],
      "metadata": {
        "id": "wYntqRMVyR_e"
      },
      "execution_count": null,
      "outputs": []
    }
  ]
}