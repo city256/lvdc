{
 "cells": [
  {
   "cell_type": "code",
   "execution_count": 11,
   "metadata": {
    "collapsed": true,
    "ExecuteTime": {
     "end_time": "2023-07-07T00:55:04.592132Z",
     "start_time": "2023-07-07T00:54:37.245782Z"
    }
   },
   "outputs": [
    {
     "name": "stdout",
     "output_type": "stream",
     "text": [
      "   time    pv\n",
      "0    0시   0.0\n",
      "1    1시   0.0\n",
      "2    2시   0.0\n",
      "3    3시   0.0\n",
      "4    4시   0.0\n",
      "5    5시   0.0\n",
      "6    6시   0.0\n",
      "7    7시     -\n",
      "8    8시     -\n",
      "9    9시   0.0\n",
      "10  10시  10.0\n",
      "11  11시     -\n",
      "12  12시     -\n",
      "13  13시  30.0\n",
      "14  14시     -\n",
      "15  15시     -\n",
      "16  16시  10.0\n",
      "17  17시   0.0\n",
      "18  18시     -\n",
      "19  19시     -\n",
      "20  20시   0.0\n",
      "21  21시   0.0\n",
      "22  22시     -\n",
      "23  23시     -\n"
     ]
    }
   ],
   "source": [
    "import time\n",
    "from selenium import webdriver\n",
    "from bs4 import BeautifulSoup\n",
    "import pandas as pd\n",
    "from selenium.webdriver.common.by import By\n",
    "\n",
    "# 웹 드라이버 경로 설정 (여기서는 Chrome을 사용하였습니다.)b\n",
    "# 웹 드라이버는 각 브라우저의 공식 웹사이트에서 다운로드 받을 수 있습니다.\n",
    "driver = webdriver.Chrome()\n",
    "\n",
    "# 웹 드라이버 초기화\n",
    "\n",
    "# 웹페이지 접속\n",
    "url = 'http://bd.kma.go.kr/kma2020/fs/energySelect2.do?menuCd=F050702000'\n",
    "driver.get(url)\n",
    "\n",
    "# 웹페이지 로딩 대기\n",
    "driver.implicitly_wait(3)\n",
    "\n",
    "# 지역 선택 및 클릭\n",
    "driver.find_element(By.ID, 'install_cap').clear()\n",
    "driver.find_element(By.ID, 'install_cap').send_keys(0.25)\n",
    "driver.find_element(By.ID, 'txtLat').send_keys(34.982)\n",
    "driver.find_element(By.ID, 'txtLon').send_keys(126.690)\n",
    "driver.find_element(By.ID, 'search_btn').click()\n",
    "\n",
    "\n",
    "'''area = driver.find_element(By.XPATH,'//*[@id=\"info_2900000000\"]/span')\n",
    "area.click()'''\n",
    "time.sleep(10)\n",
    "\n",
    "\n",
    "# 웹페이지의 HTML 가져오기\n",
    "html = driver.page_source\n",
    "\n",
    "# BeautifulSoup 객체 생성\n",
    "soup = BeautifulSoup(html, 'html.parser')\n",
    "pf = pd.DataFrame(columns=['time', 'pv'])\n",
    "pv = driver.find_element(By.ID,'toEnergy').text\n",
    "\n",
    "# 웹 드라이버 종료\n",
    "driver.quit()\n",
    "\n",
    "hour = pv.split('\\n')\n",
    "i = 0\n",
    "for x in hour:\n",
    "    energy = x.split(' ')\n",
    "    # 특정 시간대 값이 누락 되었을 때\n",
    "    if energy[1] == '-':\n",
    "        pf.loc[i] = [energy[0], energy[1]]\n",
    "    else:\n",
    "        pf.loc[i] = [energy[0], float(energy[1]) * 1000]\n",
    "    i+=1\n",
    "\n",
    "print(pf)\n"
   ]
  },
  {
   "cell_type": "code",
   "execution_count": 12,
   "outputs": [
    {
     "data": {
      "text/plain": "   time    pv\n0    0시   0.0\n1    1시   0.0\n2    2시   0.0\n3    3시   0.0\n4    4시   0.0\n5    5시   0.0\n6    6시   0.0\n7    7시     -\n8    8시     -\n9    9시   0.0\n10  10시  10.0\n11  11시     -\n12  12시     -\n13  13시  30.0\n14  14시     -\n15  15시     -\n16  16시  10.0\n17  17시   0.0\n18  18시     -\n19  19시     -\n20  20시   0.0\n21  21시   0.0\n22  22시     -\n23  23시     -",
      "text/html": "<div>\n<style scoped>\n    .dataframe tbody tr th:only-of-type {\n        vertical-align: middle;\n    }\n\n    .dataframe tbody tr th {\n        vertical-align: top;\n    }\n\n    .dataframe thead th {\n        text-align: right;\n    }\n</style>\n<table border=\"1\" class=\"dataframe\">\n  <thead>\n    <tr style=\"text-align: right;\">\n      <th></th>\n      <th>time</th>\n      <th>pv</th>\n    </tr>\n  </thead>\n  <tbody>\n    <tr>\n      <th>0</th>\n      <td>0시</td>\n      <td>0.0</td>\n    </tr>\n    <tr>\n      <th>1</th>\n      <td>1시</td>\n      <td>0.0</td>\n    </tr>\n    <tr>\n      <th>2</th>\n      <td>2시</td>\n      <td>0.0</td>\n    </tr>\n    <tr>\n      <th>3</th>\n      <td>3시</td>\n      <td>0.0</td>\n    </tr>\n    <tr>\n      <th>4</th>\n      <td>4시</td>\n      <td>0.0</td>\n    </tr>\n    <tr>\n      <th>5</th>\n      <td>5시</td>\n      <td>0.0</td>\n    </tr>\n    <tr>\n      <th>6</th>\n      <td>6시</td>\n      <td>0.0</td>\n    </tr>\n    <tr>\n      <th>7</th>\n      <td>7시</td>\n      <td>-</td>\n    </tr>\n    <tr>\n      <th>8</th>\n      <td>8시</td>\n      <td>-</td>\n    </tr>\n    <tr>\n      <th>9</th>\n      <td>9시</td>\n      <td>0.0</td>\n    </tr>\n    <tr>\n      <th>10</th>\n      <td>10시</td>\n      <td>10.0</td>\n    </tr>\n    <tr>\n      <th>11</th>\n      <td>11시</td>\n      <td>-</td>\n    </tr>\n    <tr>\n      <th>12</th>\n      <td>12시</td>\n      <td>-</td>\n    </tr>\n    <tr>\n      <th>13</th>\n      <td>13시</td>\n      <td>30.0</td>\n    </tr>\n    <tr>\n      <th>14</th>\n      <td>14시</td>\n      <td>-</td>\n    </tr>\n    <tr>\n      <th>15</th>\n      <td>15시</td>\n      <td>-</td>\n    </tr>\n    <tr>\n      <th>16</th>\n      <td>16시</td>\n      <td>10.0</td>\n    </tr>\n    <tr>\n      <th>17</th>\n      <td>17시</td>\n      <td>0.0</td>\n    </tr>\n    <tr>\n      <th>18</th>\n      <td>18시</td>\n      <td>-</td>\n    </tr>\n    <tr>\n      <th>19</th>\n      <td>19시</td>\n      <td>-</td>\n    </tr>\n    <tr>\n      <th>20</th>\n      <td>20시</td>\n      <td>0.0</td>\n    </tr>\n    <tr>\n      <th>21</th>\n      <td>21시</td>\n      <td>0.0</td>\n    </tr>\n    <tr>\n      <th>22</th>\n      <td>22시</td>\n      <td>-</td>\n    </tr>\n    <tr>\n      <th>23</th>\n      <td>23시</td>\n      <td>-</td>\n    </tr>\n  </tbody>\n</table>\n</div>"
     },
     "execution_count": 12,
     "metadata": {},
     "output_type": "execute_result"
    }
   ],
   "source": [
    "pf"
   ],
   "metadata": {
    "collapsed": false,
    "ExecuteTime": {
     "end_time": "2023-07-07T00:55:04.600195Z",
     "start_time": "2023-07-07T00:55:04.597132Z"
    }
   }
  },
  {
   "cell_type": "code",
   "execution_count": 12,
   "outputs": [],
   "source": [],
   "metadata": {
    "collapsed": false,
    "ExecuteTime": {
     "end_time": "2023-07-07T00:55:04.602937Z",
     "start_time": "2023-07-07T00:55:04.600978Z"
    }
   }
  }
 ],
 "metadata": {
  "kernelspec": {
   "display_name": "Python 3",
   "language": "python",
   "name": "python3"
  },
  "language_info": {
   "codemirror_mode": {
    "name": "ipython",
    "version": 2
   },
   "file_extension": ".py",
   "mimetype": "text/x-python",
   "name": "python",
   "nbconvert_exporter": "python",
   "pygments_lexer": "ipython2",
   "version": "2.7.6"
  }
 },
 "nbformat": 4,
 "nbformat_minor": 0
}
